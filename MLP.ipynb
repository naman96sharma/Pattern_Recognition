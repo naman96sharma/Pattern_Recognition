{
 "cells": [
  {
   "cell_type": "markdown",
   "metadata": {},
   "source": [
    "# Neural Network\n",
    "In this assignment, you are required to implement a **fully connected neural network** (using NumPy) to perform image classification on the MNIST dataset."
   ]
  },
  {
   "cell_type": "markdown",
   "metadata": {},
   "source": [
    "## Set up the environment and data"
   ]
  },
  {
   "cell_type": "code",
   "execution_count": 1,
   "metadata": {},
   "outputs": [],
   "source": [
    "import os\n",
    "import sys\n",
    "\n",
    "import matplotlib.pyplot as plt\n",
    "import numpy as np\n",
    "\n",
    "%load_ext autoreload\n",
    "%autoreload 2\n",
    "\n",
    "def rel_error(x, y):\n",
    "    \"\"\" returns relative error \"\"\"\n",
    "    return np.max(np.abs(x - y) / (np.maximum(1e-8, np.abs(x) + np.abs(y))))\n",
    "\n",
    "# Load the MNIST data and flatten it\n",
    "mnist_dir = \"../data/\"\n",
    "\n",
    "from data.mnist import load_from_pickle, load_and_pickle\n",
    "load_and_pickle(mnist_dir)\n",
    "data = load_from_pickle(os.path.join(mnist_dir + 'mnist.pkl'))\n",
    "\n",
    "trainX, trainy = data['trainX'], data['trainy']\n",
    "testX, testy = data['testX'], data['testy']\n",
    "\n",
    "trainX = trainX.reshape(len(trainX), -1).astype('int')\n",
    "testX = testX.reshape(len(testX), -1).astype('int')"
   ]
  },
  {
   "cell_type": "markdown",
   "metadata": {},
   "source": [
    "## Fully Connected Network\n",
    "Next, you are first going to design, debug & implement a neural network with fully-connected layers to perform classification using the following \"toy data\". Following this,  you will test the neural network on the MNIST dataset."
   ]
  },
  {
   "cell_type": "code",
   "execution_count": 2,
   "metadata": {},
   "outputs": [],
   "source": [
    "# First, create a small neural network and use the “toy data” below to verify its functionality.\n",
    "# Note that the random seed is set to ensure that the experiments are repeatable\n",
    "\n",
    "from network import Net\n",
    "\n",
    "input_size = 4\n",
    "hidden_size = 10\n",
    "num_classes = 3\n",
    "num_inputs = 5\n",
    "\n",
    "def init_toy_model():\n",
    "    np.random.seed(0)\n",
    "    return Net(input_size, hidden_size, num_classes, std=1e-1)\n",
    "\n",
    "def init_toy_data():\n",
    "    np.random.seed(1)\n",
    "    X = 10 * np.random.randn(num_inputs, input_size)\n",
    "    y = np.array([0, 1, 2, 2, 1])\n",
    "    return X, y\n",
    "\n",
    "net = init_toy_model()\n",
    "X, y = init_toy_data()"
   ]
  },
  {
   "cell_type": "markdown",
   "metadata": {},
   "source": [
    "### Forward pass: Compute scores\n",
    "Open the file `network.py` and carefully look at the class method `Net.loss` which uses the data and weights to compute the class scores, the loss, and the gradients. Compute the scores for all inputs in the forward pass using the implementation and then run the cell below to verify your implementation."
   ]
  },
  {
   "cell_type": "code",
   "execution_count": 3,
   "metadata": {},
   "outputs": [
    {
     "name": "stdout",
     "output_type": "stream",
     "text": [
      "Your scores:\n",
      "[[-0.81233741 -1.27654624 -0.70335995]\n",
      " [-0.17129677 -1.18803311 -0.47310444]\n",
      " [-0.51590475 -1.01354314 -0.8504215 ]\n",
      " [-0.15419291 -0.48629638 -0.52901952]\n",
      " [-0.00618733 -0.12435261 -0.15226949]]\n",
      "\n",
      " correct scores:\n",
      "[[-0.81233741 -1.27654624 -0.70335995]\n",
      " [-0.17129677 -1.18803311 -0.47310444]\n",
      " [-0.51590475 -1.01354314 -0.8504215 ]\n",
      " [-0.15419291 -0.48629638 -0.52901952]\n",
      " [-0.00618733 -0.12435261 -0.15226949]]\n",
      "\n",
      " Difference between your scores and correct scores:\n",
      "3.6802720745909845e-08\n"
     ]
    }
   ],
   "source": [
    "scores = net.loss(X)\n",
    "print('Your scores:')\n",
    "print(scores)\n",
    "\n",
    "print('\\n correct scores:')\n",
    "correct_scores = np.asarray([\n",
    "  [-0.81233741, -1.27654624, -0.70335995],\n",
    "  [-0.17129677, -1.18803311, -0.47310444],\n",
    "  [-0.51590475, -1.01354314, -0.8504215 ],\n",
    "  [-0.15419291, -0.48629638, -0.52901952],\n",
    "  [-0.00618733, -0.12435261, -0.15226949]])\n",
    "print(correct_scores)\n",
    "\n",
    "# The difference should be very small;  < 1e-7\n",
    "print('\\n Difference between your scores and correct scores:')\n",
    "print(np.sum(np.abs(scores - correct_scores)))"
   ]
  },
  {
   "cell_type": "markdown",
   "metadata": {},
   "source": [
    "### Forward pass: Compute loss\n",
    "Complete the second part in the same class method `Net.loss` which computes the data and regularization loss."
   ]
  },
  {
   "cell_type": "code",
   "execution_count": 4,
   "metadata": {},
   "outputs": [
    {
     "name": "stdout",
     "output_type": "stream",
     "text": [
      "Difference between your loss and correct loss:\n",
      "1.7985612998927536e-13\n"
     ]
    }
   ],
   "source": [
    "loss, _ = net.loss(X, y, reg=0.05)\n",
    "correct_loss = 1.30378789133\n",
    "\n",
    "# should be very small; less than 1e-12\n",
    "print('Difference between your loss and correct loss:')\n",
    "print(np.sum(np.abs(loss - correct_loss)))"
   ]
  },
  {
   "cell_type": "markdown",
   "metadata": {},
   "source": [
    "### Backward pass\n",
    "Complete the rest of `Net.loss` (i.e., the backward pass) to compute the gradient of the loss with respect to variables `W1`, `b1`, `W2`, and `b2`. Next, debug your backward pass using the following numeric gradient check:"
   ]
  },
  {
   "cell_type": "code",
   "execution_count": 5,
   "metadata": {},
   "outputs": [
    {
     "name": "stdout",
     "output_type": "stream",
     "text": [
      "W2 max relative error: 3.440708e-09\n",
      "b2 max relative error: 4.447656e-11\n",
      "W1 max relative error: 3.561318e-09\n",
      "b1 max relative error: 2.738421e-09\n"
     ]
    }
   ],
   "source": [
    "from gradient_check import eval_numerical_gradient\n",
    "\n",
    "# Use numeric gradient checking to check your implementation of the backward pass.\n",
    "# If your implementation is correct, the difference between the numeric and\n",
    "# analytic gradients should be less than 1e-8 for each of W1, W2, b1, and b2.\n",
    "\n",
    "loss, grads = net.loss(X, y, reg=0.05)\n",
    "\n",
    "# these differences should be less than 1e-8\n",
    "for param_name in grads:\n",
    "    f = lambda W: net.loss(X, y, reg=0.05)[0]\n",
    "    param_grad_num = eval_numerical_gradient(f, net.params[param_name], verbose=False)\n",
    "    print('%s max relative error: %e' % (param_name, rel_error(param_grad_num, grads[param_name])))"
   ]
  },
  {
   "cell_type": "markdown",
   "metadata": {},
   "source": [
    "### Training the network using Stochastic Gradient Descent (SGD)\n",
    "Complete the missing sections in class methods `Net.train` and `Net.predict` to implement the training and prediction procedures, respectively.\n",
    "\n",
    "Next, run the code below to train a two-layer network on \"toy data\". Take note of the training loss, which should be less than 0.2."
   ]
  },
  {
   "cell_type": "code",
   "execution_count": 6,
   "metadata": {},
   "outputs": [
    {
     "name": "stdout",
     "output_type": "stream",
     "text": [
      "Final training loss:  0.01563498761185671\n"
     ]
    },
    {
     "data": {
      "image/png": "[encoded data removed]",
      "text/plain": [
       "<Figure size 432x288 with 1 Axes>"
      ]
     },
     "metadata": {
      "needs_background": "light"
     },
     "output_type": "display_data"
    }
   ],
   "source": [
    "net = init_toy_model()\n",
    "stats = net.train(X, y, X, y,\n",
    "            learning_rate=1e-1, reg=5e-6,\n",
    "            num_iters=100, verbose=False)\n",
    "\n",
    "print('Final training loss: ', stats['loss_history'][-1])\n",
    "\n",
    "# plot the loss history\n",
    "plt.plot(stats['loss_history'])\n",
    "plt.xlabel('iteration')\n",
    "plt.ylabel('training loss')\n",
    "plt.title('Training Loss history')\n",
    "plt.show()"
   ]
  },
  {
   "cell_type": "markdown",
   "metadata": {},
   "source": [
    "Now that you have now implemented a two-layer network tested using the \"toy data\", you should next train & test it on a real dataset such as the MNIST data. Run the code below to train your network using SGD and an adaptive learning rate schedule as the optimization proceeds, then test it on a validation set. After each epoch, reduce the learning rate by multiplying it by a decay rate."
   ]
  },
  {
   "cell_type": "code",
   "execution_count": 7,
   "metadata": {},
   "outputs": [
    {
     "name": "stdout",
     "output_type": "stream",
     "text": [
      "iteration 0 / 10000: loss 2.302665\n",
      "iteration 1000 / 10000: loss 0.756872\n",
      "iteration 2000 / 10000: loss 0.394492\n",
      "iteration 3000 / 10000: loss 0.319647\n",
      "iteration 4000 / 10000: loss 0.332465\n",
      "iteration 5000 / 10000: loss 0.322155\n",
      "iteration 6000 / 10000: loss 0.282419\n",
      "iteration 7000 / 10000: loss 0.354267\n",
      "iteration 8000 / 10000: loss 0.422917\n",
      "iteration 9000 / 10000: loss 0.310127\n",
      "Validation accuracy:  0.944\n"
     ]
    }
   ],
   "source": [
    "X_train, X_val = trainX[:50000], trainX[50000:]\n",
    "y_train, y_val = trainy[:50000], trainy[50000:]\n",
    "\n",
    "input_size = 28 * 28\n",
    "hidden_size = 50\n",
    "num_classes = 10\n",
    "net = Net(input_size, hidden_size, num_classes)\n",
    "\n",
    "# Train the network\n",
    "stats = net.train(X_train, y_train, X_val, y_val,\n",
    "            num_iters=10000, batch_size=128,\n",
    "            learning_rate=1e-4, learning_rate_decay=0.95,\n",
    "            reg=0.25, verbose=True)\n",
    "\n",
    "# Predict on the validation set\n",
    "val_acc = (net.predict(X_val) == y_val).mean()\n",
    "print('Validation accuracy: ', val_acc)"
   ]
  },
  {
   "cell_type": "markdown",
   "metadata": {},
   "source": [
    "### Tune your network\n",
    "Complete the code block below to tune your network on the validation set. You may use the cross validation method discussed in Assignment1."
   ]
  },
  {
   "cell_type": "code",
   "execution_count": 29,
   "metadata": {},
   "outputs": [
    {
     "name": "stdout",
     "output_type": "stream",
     "text": [
      "Best Accuracy:  0.9747166666666667\n",
      "{'hidden_size': 90, 'num_iters': 10000, 'batch_size': 256, 'learning_rate': 0.0025, 'learning_rate_decay': 0.95, 'reg': 0.1}\n"
     ]
    }
   ],
   "source": [
    "import itertools\n",
    "import copy\n",
    "from sklearn.model_selection import KFold\n",
    "best_net = None # store the best model into this \n",
    "\n",
    "#################################################################################\n",
    "# TODO: Tune hyperparameters using the validation set. Store your best trained  #\n",
    "# model in best_net.                                                            #\n",
    "#################################################################################\n",
    "# Enter your code\n",
    "k = 5    # for K-fold cross validation\n",
    "kf = KFold(n_splits=k)\n",
    "kf.get_n_splits(trainX)\n",
    "\n",
    "input_size = 28 * 28\n",
    "num_classes = 10\n",
    "\n",
    "best_val_acc = 0\n",
    "best_param = None\n",
    "# grid_param = {  \n",
    "#     'hidden_size': [30, 50, 70],\n",
    "#     'num_iters': [10000],\n",
    "#     'batch_size': [64, 128, 256, 1024],\n",
    "#     'learning_rate': [1e-3, 1e-4, 1e-5],\n",
    "#     'learning_rate_decay': [0.9, 0.95, 0.99],\n",
    "#     'reg': [0.1, 0.25, 0.5],   \n",
    "# }\n",
    "\n",
    "grid_param = {  \n",
    "    'hidden_size': [90],\n",
    "    'num_iters': [10000],\n",
    "    'batch_size': [256],\n",
    "    'learning_rate': [2.5e-3],\n",
    "    'learning_rate_decay': [0.95],\n",
    "    'reg': [0.1],   \n",
    "}\n",
    "\n",
    "keys = grid_param.keys()\n",
    "values = (grid_param[key] for key in keys)\n",
    "combinations = [dict(zip(keys, combination)) for combination in itertools.product(*values)]\n",
    "\n",
    "for param in combinations:\n",
    "    val_acc = []\n",
    "    for train_index, test_index in kf.split(trainX):\n",
    "        X_train, X_val = trainX[train_index], trainX[test_index]\n",
    "        y_train, y_val = trainy[train_index], trainy[test_index]\n",
    "        net = Net(input_size, param['hidden_size'], num_classes)\n",
    "        # Train the network\n",
    "        stats = net.train(X_train, y_train, X_val, y_val, num_iters=param['num_iters'],\n",
    "                          batch_size=param['batch_size'], learning_rate=param['learning_rate'],\n",
    "                          learning_rate_decay=param['learning_rate_decay'], reg=param['reg'])\n",
    "        # Predict on the validation set\n",
    "        val_acc.append((net.predict(X_val) == y_val).mean())\n",
    "    avg_val_acc = sum(val_acc) / k\n",
    "    if avg_val_acc > best_val_acc:\n",
    "        best_val_acc = avg_val_acc\n",
    "        best_net = copy.deepcopy(net)\n",
    "        best_param = param\n",
    "\n",
    "print(\"Best Accuracy: \", best_val_acc)\n",
    "print(best_param)\n",
    "#################################################################################\n",
    "#                               END OF YOUR CODE                                #\n",
    "#################################################################################"
   ]
  },
  {
   "cell_type": "markdown",
   "metadata": {},
   "source": [
    "### Run on the test set\n",
    "Finally, evaluate your final trained network on the test set."
   ]
  },
  {
   "cell_type": "code",
   "execution_count": 30,
   "metadata": {},
   "outputs": [
    {
     "name": "stdout",
     "output_type": "stream",
     "text": [
      "Test accuracy:  0.9776\n"
     ]
    }
   ],
   "source": [
    "test_acc = (best_net.predict(testX) == testy).mean()\n",
    "print('Test accuracy: ', test_acc)"
   ]
  },
  {
   "cell_type": "code",
   "execution_count": null,
   "metadata": {},
   "outputs": [],
   "source": []
  }
 ],
 "metadata": {
  "kernelspec": {
   "display_name": "Python 3",
   "language": "python",
   "name": "python3"
  },
  "language_info": {
   "codemirror_mode": {
    "name": "ipython",
    "version": 3
   },
   "file_extension": ".py",
   "mimetype": "text/x-python",
   "name": "python",
   "nbconvert_exporter": "python",
   "pygments_lexer": "ipython3",
   "version": "3.7.3"
  }
 },
 "nbformat": 4,
 "nbformat_minor": 2
}
