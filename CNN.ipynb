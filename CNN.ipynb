{
 "cells": [
  {
   "cell_type": "markdown",
   "metadata": {},
   "source": [
    "# Neural Networks\n",
    "Necessary imports and plot functions used over the entire python notebook:"
   ]
  },
  {
   "cell_type": "code",
   "execution_count": 1,
   "metadata": {},
   "outputs": [],
   "source": [
    "import numpy as np\n",
    "import os\n",
    "import sys\n",
    "import pandas as pd\n",
    "import matplotlib.pyplot as plt\n",
    "from sklearn.metrics import accuracy_score, confusion_matrix\n",
    "import seaborn as sns\n",
    "\n",
    "# To plot figures\n",
    "%matplotlib inline\n",
    "import matplotlib\n",
    "import matplotlib.pyplot as plt\n",
    "plt.rcParams['axes.labelsize'] = 14\n",
    "plt.rcParams['xtick.labelsize'] = 12\n",
    "plt.rcParams['ytick.labelsize'] = 12\n",
    "\n",
    "# Where to save the figures\n",
    "IMAGES_PATH = \"./images\"\n",
    "\n",
    "def save_fig(fig_id, tight_layout=True, fig_extension=\"png\", resolution=300):\n",
    "    path = os.path.join(IMAGES_PATH, fig_id + \".\" + fig_extension)\n",
    "    print(\"Saving figure\", fig_id)\n",
    "    if tight_layout:\n",
    "        plt.tight_layout()\n",
    "    plt.savefig(path, format=fig_extension, dpi=resolution)"
   ]
  },
  {
   "cell_type": "markdown",
   "metadata": {},
   "source": [
    "## Data Retrieval"
   ]
  },
  {
   "cell_type": "code",
   "execution_count": 2,
   "metadata": {},
   "outputs": [],
   "source": [
    "from six.moves import urllib\n",
    "from sklearn.datasets import fetch_mldata\n",
    "try:\n",
    "    mnist = fetch_mldata('MNIST original')\n",
    "except urllib.error.HTTPError as ex:\n",
    "    print(\"Could not download MNIST data from mldata.org, trying alternative...\")\n",
    "\n",
    "    # Alternative method to load MNIST, if mldata.org is down\n",
    "    from scipy.io import loadmat\n",
    "    mnist_alternative_url = \"https://github.com/amplab/datascience-sp14/raw/master/lab7/mldata/mnist-original.mat\"\n",
    "    mnist_path = \"./mnist-original.mat\"\n",
    "    response = urllib.request.urlopen(mnist_alternative_url)\n",
    "    with open(mnist_path, \"wb\") as f:\n",
    "        content = response.read()\n",
    "        f.write(content)\n",
    "    mnist_raw = loadmat(mnist_path)\n",
    "    mnist = {\n",
    "        \"data\": mnist_raw[\"data\"].T,\n",
    "        \"target\": mnist_raw[\"label\"][0],\n",
    "        \"COL_NAMES\": [\"label\", \"data\"],\n",
    "        \"DESCR\": \"mldata.org dataset: mnist-original\",\n",
    "    }"
   ]
  },
  {
   "cell_type": "code",
   "execution_count": 3,
   "metadata": {},
   "outputs": [],
   "source": [
    "X, y = mnist[\"data\"]/255.0, mnist[\"target\"]\n",
    "X_train, X_test, y_train, y_test = X[:60000], X[60000:], y[:60000], y[60000:]"
   ]
  },
  {
   "cell_type": "markdown",
   "metadata": {},
   "source": [
    "## Neural Network\n",
    "We have the following architecture for the neural network.\n",
    "1. CNN layer: 20 nodes, kernel size=5\n",
    "2. Max pooling layer: kernel size=2, stride=2\n",
    "3. CNN layer: 50 nodes, kernel size=5\n",
    "4. Max Pooling layer: kernel size=2, stride=2\n",
    "5. Fully Connected Layer: 500 nodes\n",
    "6. ReLU (Rectified Linear Unit)\n",
    "7. Output Layer: 10 nodes"
   ]
  },
  {
   "cell_type": "code",
   "execution_count": 6,
   "metadata": {},
   "outputs": [
    {
     "ename": "ModuleNotFoundError",
     "evalue": "No module named 'tensorflow'",
     "output_type": "error",
     "traceback": [
      "\u001b[1;31m---------------------------------------------------------------------------\u001b[0m",
      "\u001b[1;31mModuleNotFoundError\u001b[0m                       Traceback (most recent call last)",
      "\u001b[1;32m<ipython-input-6-f55b03726862>\u001b[0m in \u001b[0;36m<module>\u001b[1;34m()\u001b[0m\n\u001b[1;32m----> 1\u001b[1;33m \u001b[1;32mfrom\u001b[0m \u001b[0mtensorflow\u001b[0m \u001b[1;32mimport\u001b[0m \u001b[0mkeras\u001b[0m\u001b[1;33m\u001b[0m\u001b[0m\n\u001b[0m\u001b[0;32m      2\u001b[0m \u001b[1;31m# from keras.models import Sequential\u001b[0m\u001b[1;33m\u001b[0m\u001b[1;33m\u001b[0m\u001b[0m\n\u001b[0;32m      3\u001b[0m \u001b[1;31m# from keras.layers import Conv2D, MaxPooling2D, Dense, Flatten\u001b[0m\u001b[1;33m\u001b[0m\u001b[1;33m\u001b[0m\u001b[0m\n\u001b[0;32m      4\u001b[0m \u001b[1;31m# from keras import backend as K\u001b[0m\u001b[1;33m\u001b[0m\u001b[1;33m\u001b[0m\u001b[0m\n\u001b[0;32m      5\u001b[0m \u001b[1;33m\u001b[0m\u001b[0m\n",
      "\u001b[1;31mModuleNotFoundError\u001b[0m: No module named 'tensorflow'"
     ]
    }
   ],
   "source": [
    "from tensorflow import keras\n",
    "# from keras.models import Sequential\n",
    "# from keras.layers import Conv2D, MaxPooling2D, Dense, Flatten\n",
    "# from keras import backend as K\n",
    "\n",
    "batch_size = 128\n",
    "num_classes = 10\n",
    "epochs = 12\n",
    "\n",
    "img_rows, img_cols = 28, 28\n",
    "\n",
    "X_train = X_train.reshape(X_train.shape[0], img_rows, img_cols, 1)\n",
    "X_test = X_test.reshape(X_test.shape[0], img_rows, img_cols, 1)\n",
    "input_shape = (img_rows, img_cols, 1)\n",
    "\n",
    "print ('X_train:', X_train.shape)\n",
    "print ('X_test:', X_test.shape)\n",
    "\n",
    "y_train = keras.utils.to_categorical(y_train, num_classes)\n",
    "y_test = keras.utils.to_categorical(y_test, num_classes)"
   ]
  },
  {
   "cell_type": "code",
   "execution_count": 6,
   "metadata": {},
   "outputs": [
    {
     "name": "stdout",
     "output_type": "stream",
     "text": [
      "X_train: (60000, 28, 28, 1)\n",
      "X_test: (10000, 28, 28, 1)\n",
      "_________________________________________________________________\n",
      "Layer (type)                 Output Shape              Param #   \n",
      "=================================================================\n",
      "conv2d_3 (Conv2D)            (None, 24, 24, 20)        520       \n",
      "_________________________________________________________________\n",
      "max_pooling2d_3 (MaxPooling2 (None, 12, 12, 20)        0         \n",
      "_________________________________________________________________\n",
      "conv2d_4 (Conv2D)            (None, 8, 8, 50)          25050     \n",
      "_________________________________________________________________\n",
      "max_pooling2d_4 (MaxPooling2 (None, 4, 4, 50)          0         \n",
      "_________________________________________________________________\n",
      "flatten_2 (Flatten)          (None, 800)               0         \n",
      "_________________________________________________________________\n",
      "dense_3 (Dense)              (None, 500)               400500    \n",
      "_________________________________________________________________\n",
      "dense_4 (Dense)              (None, 10)                5010      \n",
      "=================================================================\n",
      "Total params: 431,080\n",
      "Trainable params: 431,080\n",
      "Non-trainable params: 0\n",
      "_________________________________________________________________\n",
      "None\n",
      "(600000, 10) (100000, 10)\n"
     ]
    }
   ],
   "source": [
    "model = Sequential()\n",
    "model.add(Conv2D(20, kernel_size=5, input_shape=input_shape))\n",
    "model.add(MaxPooling2D(pool_size=2, strides=2))\n",
    "model.add(Conv2D(50, kernel_size=5))\n",
    "model.add(MaxPooling2D(pool_size=2, strides=2))\n",
    "model.add(Flatten())\n",
    "model.add(Dense(500, activation='relu'))\n",
    "model.add(Dense(num_classes, activation='softmax'))\n",
    "\n",
    "model.compile(loss=keras.losses.categorical_crossentropy, optimizer=keras.optimizers.Adadelta(), metrics=['accuracy'])\n",
    "\n",
    "print(model.summary())"
   ]
  },
  {
   "cell_type": "code",
   "execution_count": 5,
   "metadata": {},
   "outputs": [
    {
     "name": "stdout",
     "output_type": "stream",
     "text": [
      "Train on 60000 samples, validate on 10000 samples\n",
      "Epoch 1/12\n",
      "60000/60000 [==============================] - 18s - loss: 0.2421 - acc: 0.9291 - val_loss: 0.0851 - val_acc: 0.9720\n",
      "Epoch 2/12\n",
      "60000/60000 [==============================] - 18s - loss: 0.0659 - acc: 0.9799 - val_loss: 0.0495 - val_acc: 0.9841\n",
      "Epoch 3/12\n",
      "60000/60000 [==============================] - 18s - loss: 0.0442 - acc: 0.9860 - val_loss: 0.0400 - val_acc: 0.9874\n",
      "Epoch 4/12\n",
      "60000/60000 [==============================] - 18s - loss: 0.0329 - acc: 0.9901 - val_loss: 0.0354 - val_acc: 0.9891\n",
      "Epoch 5/12\n",
      "60000/60000 [==============================] - 18s - loss: 0.0255 - acc: 0.9925 - val_loss: 0.0348 - val_acc: 0.9886\n",
      "Epoch 6/12\n",
      "60000/60000 [==============================] - 18s - loss: 0.0202 - acc: 0.9939 - val_loss: 0.0318 - val_acc: 0.9888\n",
      "Epoch 7/12\n",
      "60000/60000 [==============================] - 18s - loss: 0.0156 - acc: 0.9954 - val_loss: 0.0356 - val_acc: 0.9892\n",
      "Epoch 8/12\n",
      "60000/60000 [==============================] - 18s - loss: 0.0130 - acc: 0.9960 - val_loss: 0.0328 - val_acc: 0.9898\n",
      "Epoch 9/12\n",
      "60000/60000 [==============================] - 18s - loss: 0.0100 - acc: 0.9972 - val_loss: 0.0352 - val_acc: 0.9894\n",
      "Epoch 10/12\n",
      "60000/60000 [==============================] - 18s - loss: 0.0082 - acc: 0.9977 - val_loss: 0.0332 - val_acc: 0.9900\n",
      "Epoch 11/12\n",
      "60000/60000 [==============================] - 18s - loss: 0.0067 - acc: 0.9983 - val_loss: 0.0324 - val_acc: 0.9902\n",
      "Epoch 12/12\n",
      "60000/60000 [==============================] - 18s - loss: 0.0053 - acc: 0.9987 - val_loss: 0.0313 - val_acc: 0.9907\n",
      "Test loss: 0.03131811918143548\n",
      "Test accuracy: 0.9907\n"
     ]
    }
   ],
   "source": [
    "model.fit(X_train, y_train,\n",
    "          batch_size=batch_size,\n",
    "          epochs=epochs,\n",
    "          verbose=1,\n",
    "          validation_data=(X_test, y_test))\n",
    "score = model.evaluate(X_test, y_test, verbose=0)\n",
    "print('Test loss:', score[0])\n",
    "print('Test accuracy:', score[1])"
   ]
  },
  {
   "cell_type": "markdown",
   "metadata": {},
   "source": [
    "## Other network Architectures: increasing no. of nodes"
   ]
  },
  {
   "cell_type": "code",
   "execution_count": 6,
   "metadata": {},
   "outputs": [
    {
     "name": "stdout",
     "output_type": "stream",
     "text": [
      "Train on 60000 samples, validate on 10000 samples\n",
      "Epoch 1/12\n",
      "60000/60000 [==============================] - 71s - loss: 0.2319 - acc: 0.9315 - val_loss: 0.0813 - val_acc: 0.9738\n",
      "Epoch 2/12\n",
      "60000/60000 [==============================] - 74s - loss: 0.0635 - acc: 0.9809 - val_loss: 0.0524 - val_acc: 0.9839\n",
      "Epoch 3/12\n",
      "60000/60000 [==============================] - 73s - loss: 0.0421 - acc: 0.9873 - val_loss: 0.0370 - val_acc: 0.9883\n",
      "Epoch 4/12\n",
      "60000/60000 [==============================] - 74s - loss: 0.0313 - acc: 0.9905 - val_loss: 0.0379 - val_acc: 0.9874\n",
      "Epoch 5/12\n",
      "60000/60000 [==============================] - 73s - loss: 0.0233 - acc: 0.9930 - val_loss: 0.0357 - val_acc: 0.9879\n",
      "Epoch 6/12\n",
      "60000/60000 [==============================] - 72s - loss: 0.0186 - acc: 0.9941 - val_loss: 0.0326 - val_acc: 0.9896\n",
      "Epoch 7/12\n",
      "60000/60000 [==============================] - 72s - loss: 0.0140 - acc: 0.9957 - val_loss: 0.0341 - val_acc: 0.9889\n",
      "Epoch 8/12\n",
      "60000/60000 [==============================] - 73s - loss: 0.0109 - acc: 0.9969 - val_loss: 0.0331 - val_acc: 0.9900\n",
      "Epoch 9/12\n",
      "60000/60000 [==============================] - 74s - loss: 0.0092 - acc: 0.9975 - val_loss: 0.0345 - val_acc: 0.9901\n",
      "Epoch 10/12\n",
      "60000/60000 [==============================] - 72s - loss: 0.0072 - acc: 0.9980 - val_loss: 0.0344 - val_acc: 0.9900\n",
      "Epoch 11/12\n",
      "60000/60000 [==============================] - 73s - loss: 0.0056 - acc: 0.9985 - val_loss: 0.0356 - val_acc: 0.9907\n",
      "Epoch 12/12\n",
      "60000/60000 [==============================] - 74s - loss: 0.0043 - acc: 0.9987 - val_loss: 0.0388 - val_acc: 0.9912\n",
      "Test loss: 0.03881637202914785\n",
      "Test accuracy: 0.9912\n"
     ]
    }
   ],
   "source": [
    "model = Sequential()\n",
    "model.add(Conv2D(30, kernel_size=5, input_shape=input_shape))\n",
    "model.add(MaxPooling2D(pool_size=2, strides=2))\n",
    "model.add(Conv2D(50, kernel_size=5))\n",
    "model.add(MaxPooling2D(pool_size=2, strides=2))\n",
    "model.add(Flatten())\n",
    "model.add(Dense(500, activation='relu'))\n",
    "model.add(Dense(num_classes, activation='softmax'))\n",
    "\n",
    "model.compile(loss=keras.losses.categorical_crossentropy, optimizer=keras.optimizers.Adadelta(), metrics=['accuracy'])\n",
    "model.fit(X_train, y_train,\n",
    "          batch_size=batch_size,\n",
    "          epochs=epochs,\n",
    "          verbose=1,\n",
    "          validation_data=(X_test, y_test))\n",
    "score = model.evaluate(X_test, y_test, verbose=0)\n",
    "print('Test loss:', score[0])\n",
    "print('Test accuracy:', score[1])"
   ]
  },
  {
   "cell_type": "code",
   "execution_count": 7,
   "metadata": {},
   "outputs": [
    {
     "name": "stdout",
     "output_type": "stream",
     "text": [
      "Train on 60000 samples, validate on 10000 samples\n",
      "Epoch 1/12\n",
      "60000/60000 [==============================] - 80s - loss: 0.2204 - acc: 0.9342 - val_loss: 0.0748 - val_acc: 0.9775\n",
      "Epoch 2/12\n",
      "60000/60000 [==============================] - 80s - loss: 0.0598 - acc: 0.9822 - val_loss: 0.0415 - val_acc: 0.9867\n",
      "Epoch 3/12\n",
      "60000/60000 [==============================] - 80s - loss: 0.0402 - acc: 0.9872 - val_loss: 0.0366 - val_acc: 0.9889\n",
      "Epoch 4/12\n",
      "60000/60000 [==============================] - 79s - loss: 0.0285 - acc: 0.9914 - val_loss: 0.0297 - val_acc: 0.9903\n",
      "Epoch 5/12\n",
      "60000/60000 [==============================] - 80s - loss: 0.0215 - acc: 0.9931 - val_loss: 0.0343 - val_acc: 0.9894\n",
      "Epoch 6/12\n",
      "60000/60000 [==============================] - 80s - loss: 0.0168 - acc: 0.9953 - val_loss: 0.0336 - val_acc: 0.9896\n",
      "Epoch 7/12\n",
      "60000/60000 [==============================] - 79s - loss: 0.0124 - acc: 0.9964 - val_loss: 0.0311 - val_acc: 0.9907\n",
      "Epoch 8/12\n",
      "60000/60000 [==============================] - 80s - loss: 0.0098 - acc: 0.9970 - val_loss: 0.0358 - val_acc: 0.9900\n",
      "Epoch 9/12\n",
      "60000/60000 [==============================] - 79s - loss: 0.0078 - acc: 0.9978 - val_loss: 0.0307 - val_acc: 0.9910\n",
      "Epoch 10/12\n",
      "60000/60000 [==============================] - 80s - loss: 0.0060 - acc: 0.9984 - val_loss: 0.0312 - val_acc: 0.9915\n",
      "Epoch 11/12\n",
      "60000/60000 [==============================] - 81s - loss: 0.0045 - acc: 0.9986 - val_loss: 0.0337 - val_acc: 0.9910\n",
      "Epoch 12/12\n",
      "60000/60000 [==============================] - 79s - loss: 0.0034 - acc: 0.9993 - val_loss: 0.0349 - val_acc: 0.9899\n",
      "Test loss: 0.0348654880426257\n",
      "Test accuracy: 0.9899\n"
     ]
    }
   ],
   "source": [
    "model = Sequential()\n",
    "model.add(Conv2D(30, kernel_size=5, input_shape=input_shape))\n",
    "model.add(MaxPooling2D(pool_size=2, strides=2))\n",
    "model.add(Conv2D(60, kernel_size=5))\n",
    "model.add(MaxPooling2D(pool_size=2, strides=2))\n",
    "model.add(Flatten())\n",
    "model.add(Dense(600, activation='relu'))\n",
    "model.add(Dense(num_classes, activation='softmax'))\n",
    "\n",
    "model.compile(loss=keras.losses.categorical_crossentropy, optimizer=keras.optimizers.Adadelta(), metrics=['accuracy'])\n",
    "model.fit(X_train, y_train,\n",
    "          batch_size=batch_size,\n",
    "          epochs=epochs,\n",
    "          verbose=1,\n",
    "          validation_data=(X_test, y_test))\n",
    "score = model.evaluate(X_test, y_test, verbose=0)\n",
    "print('Test loss:', score[0])\n",
    "print('Test accuracy:', score[1])"
   ]
  },
  {
   "cell_type": "markdown",
   "metadata": {},
   "source": [
    "## Other network architectures: Adding layers"
   ]
  },
  {
   "cell_type": "code",
   "execution_count": 12,
   "metadata": {},
   "outputs": [
    {
     "name": "stdout",
     "output_type": "stream",
     "text": [
      "Train on 60000 samples, validate on 10000 samples\n",
      "Epoch 1/12\n",
      "60000/60000 [==============================] - 52s - loss: 0.4392 - acc: 0.8633 - val_loss: 0.1615 - val_acc: 0.9494\n",
      "Epoch 2/12\n",
      "60000/60000 [==============================] - 50s - loss: 0.1425 - acc: 0.9568 - val_loss: 0.1170 - val_acc: 0.9620\n",
      "Epoch 3/12\n",
      "60000/60000 [==============================] - 52s - loss: 0.1096 - acc: 0.9663 - val_loss: 0.0994 - val_acc: 0.9681\n",
      "Epoch 4/12\n",
      "60000/60000 [==============================] - 51s - loss: 0.0902 - acc: 0.9721 - val_loss: 0.0849 - val_acc: 0.9714\n",
      "Epoch 5/12\n",
      "60000/60000 [==============================] - 53s - loss: 0.0767 - acc: 0.9769 - val_loss: 0.0779 - val_acc: 0.9743\n",
      "Epoch 6/12\n",
      "60000/60000 [==============================] - 53s - loss: 0.0667 - acc: 0.9799 - val_loss: 0.0708 - val_acc: 0.9773\n",
      "Epoch 7/12\n",
      "60000/60000 [==============================] - 52s - loss: 0.0587 - acc: 0.9821 - val_loss: 0.0706 - val_acc: 0.9779\n",
      "Epoch 8/12\n",
      "60000/60000 [==============================] - 49s - loss: 0.0526 - acc: 0.9842 - val_loss: 0.0642 - val_acc: 0.9801\n",
      "Epoch 9/12\n",
      "60000/60000 [==============================] - 54s - loss: 0.0482 - acc: 0.9859 - val_loss: 0.0663 - val_acc: 0.9789\n",
      "Epoch 10/12\n",
      "60000/60000 [==============================] - 54s - loss: 0.0435 - acc: 0.9863 - val_loss: 0.0567 - val_acc: 0.9829\n",
      "Epoch 11/12\n",
      "60000/60000 [==============================] - 52s - loss: 0.0389 - acc: 0.9879 - val_loss: 0.0572 - val_acc: 0.9833\n",
      "Epoch 12/12\n",
      "60000/60000 [==============================] - 53s - loss: 0.0361 - acc: 0.9890 - val_loss: 0.0655 - val_acc: 0.9801\n",
      "Test loss: 0.06546573432377918\n",
      "Test accuracy: 0.9801\n"
     ]
    }
   ],
   "source": [
    "model = Sequential()\n",
    "model.add(Conv2D(20, kernel_size=5, input_shape=input_shape))\n",
    "model.add(MaxPooling2D(pool_size=2, strides=2))\n",
    "model.add(Conv2D(30, kernel_size=5))\n",
    "model.add(MaxPooling2D(pool_size=2, strides=2))\n",
    "model.add(Conv2D(50, kernel_size=2))\n",
    "model.add(MaxPooling2D(pool_size=2, strides=2))\n",
    "model.add(Flatten())\n",
    "model.add(Dense(500, activation='relu'))\n",
    "model.add(Dense(num_classes, activation='softmax'))\n",
    "\n",
    "model.compile(loss=keras.losses.categorical_crossentropy, optimizer=keras.optimizers.Adadelta(), metrics=['accuracy'])\n",
    "model.fit(X_train, y_train,\n",
    "          batch_size=batch_size,\n",
    "          epochs=epochs,\n",
    "          verbose=1,\n",
    "          validation_data=(X_test, y_test))\n",
    "score = model.evaluate(X_test, y_test, verbose=0)\n",
    "print('Test loss:', score[0])\n",
    "print('Test accuracy:', score[1])"
   ]
  },
  {
   "cell_type": "markdown",
   "metadata": {},
   "source": [
    "## Other network architectures: Activation functions"
   ]
  },
  {
   "cell_type": "code",
   "execution_count": 13,
   "metadata": {},
   "outputs": [
    {
     "name": "stdout",
     "output_type": "stream",
     "text": [
      "Train on 60000 samples, validate on 10000 samples\n",
      "Epoch 1/12\n",
      "60000/60000 [==============================] - 57s - loss: 0.5144 - acc: 0.8337 - val_loss: 0.1556 - val_acc: 0.9527\n",
      "Epoch 2/12\n",
      "60000/60000 [==============================] - 56s - loss: 0.1328 - acc: 0.9594 - val_loss: 0.1075 - val_acc: 0.9663\n",
      "Epoch 3/12\n",
      "60000/60000 [==============================] - 57s - loss: 0.1007 - acc: 0.9686 - val_loss: 0.1020 - val_acc: 0.9677\n",
      "Epoch 4/12\n",
      "60000/60000 [==============================] - 57s - loss: 0.0829 - acc: 0.9745 - val_loss: 0.0844 - val_acc: 0.9738\n",
      "Epoch 5/12\n",
      "60000/60000 [==============================] - 57s - loss: 0.0705 - acc: 0.9780 - val_loss: 0.0765 - val_acc: 0.9756\n",
      "Epoch 6/12\n",
      "60000/60000 [==============================] - 55s - loss: 0.0620 - acc: 0.9809 - val_loss: 0.0688 - val_acc: 0.9782\n",
      "Epoch 7/12\n",
      "60000/60000 [==============================] - 56s - loss: 0.0549 - acc: 0.9831 - val_loss: 0.0640 - val_acc: 0.9803\n",
      "Epoch 8/12\n",
      "60000/60000 [==============================] - 57s - loss: 0.0499 - acc: 0.9850 - val_loss: 0.0579 - val_acc: 0.9821\n",
      "Epoch 9/12\n",
      "60000/60000 [==============================] - 57s - loss: 0.0452 - acc: 0.9860 - val_loss: 0.0615 - val_acc: 0.9803\n",
      "Epoch 10/12\n",
      "60000/60000 [==============================] - 55s - loss: 0.0417 - acc: 0.9869 - val_loss: 0.0575 - val_acc: 0.9821\n",
      "Epoch 11/12\n",
      "60000/60000 [==============================] - 57s - loss: 0.0389 - acc: 0.9877 - val_loss: 0.0541 - val_acc: 0.9826\n",
      "Epoch 12/12\n",
      "60000/60000 [==============================] - 56s - loss: 0.0355 - acc: 0.9887 - val_loss: 0.0490 - val_acc: 0.9852\n",
      "Test loss: 0.04895487176945608\n",
      "Test accuracy: 0.9852\n"
     ]
    }
   ],
   "source": [
    "model = Sequential()\n",
    "# model.add(Conv2D(20, kernel_size=5, input_shape=input_shape, activation='relu'))\n",
    "# model.add(MaxPooling2D(pool_size=2, strides=2))\n",
    "model.add(Conv2D(30, kernel_size=5, activation='relu'))\n",
    "model.add(MaxPooling2D(pool_size=2, strides=2))\n",
    "model.add(Conv2D(50, kernel_size=2, activation='relu'))\n",
    "model.add(MaxPooling2D(pool_size=2, strides=2))\n",
    "model.add(Flatten())\n",
    "model.add(Dense(500, activation='relu'))\n",
    "model.add(Dense(num_classes, activation='softmax'))\n",
    "\n",
    "model.compile(loss=keras.losses.categorical_crossentropy, optimizer=keras.optimizers.Adadelta(), metrics=['accuracy'])\n",
    "model.fit(X_train, y_train,\n",
    "          batch_size=batch_size,\n",
    "          epochs=epochs,\n",
    "          verbose=1,\n",
    "          validation_data=(X_test, y_test))\n",
    "score = model.evaluate(X_test, y_test, verbose=0)\n",
    "print('Test loss:', score[0])\n",
    "print('Test accuracy:', score[1])"
   ]
  },
  {
   "cell_type": "code",
   "execution_count": null,
   "metadata": {},
   "outputs": [],
   "source": []
  }
 ],
 "metadata": {
  "kernelspec": {
   "display_name": "Python 3",
   "language": "python",
   "name": "python3"
  },
  "language_info": {
   "codemirror_mode": {
    "name": "ipython",
    "version": 3
   },
   "file_extension": ".py",
   "mimetype": "text/x-python",
   "name": "python",
   "nbconvert_exporter": "python",
   "pygments_lexer": "ipython3",
   "version": "3.7.3"
  }
 },
 "nbformat": 4,
 "nbformat_minor": 2
}
