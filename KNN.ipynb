{
 "cells": [
  {
   "cell_type": "markdown",
   "metadata": {},
   "source": [
    "# K Nearest Neighbors\n",
    "Necessary imports and plot functions used over the entire python notebook:"
   ]
  },
  {
   "cell_type": "code",
   "execution_count": 1,
   "metadata": {},
   "outputs": [],
   "source": [
    "import numpy as np\n",
    "import os\n",
    "import sys\n",
    "import pandas as pd\n",
    "import matplotlib.pyplot as plt\n",
    "import scipy.io\n",
    "from sklearn.metrics import accuracy_score, confusion_matrix, roc_curve, auc, precision_recall_curve\n",
    "from math import log"
   ]
  },
  {
   "cell_type": "code",
   "execution_count": 2,
   "metadata": {},
   "outputs": [],
   "source": [
    "# To plot figures\n",
    "%matplotlib inline\n",
    "import matplotlib\n",
    "import matplotlib.pyplot as plt\n",
    "plt.rcParams['axes.labelsize'] = 14\n",
    "plt.rcParams['xtick.labelsize'] = 12\n",
    "plt.rcParams['ytick.labelsize'] = 12\n",
    "\n",
    "# Where to save the figures\n",
    "IMAGES_PATH = \"./images\"\n",
    "\n",
    "def save_fig(fig_id, tight_layout=True, fig_extension=\"png\", resolution=300):\n",
    "    path = os.path.join(IMAGES_PATH, fig_id + \".\" + fig_extension)\n",
    "    print(\"Saving figure\", fig_id)\n",
    "    if tight_layout:\n",
    "        plt.tight_layout()\n",
    "    plt.savefig(path, format=fig_extension, dpi=resolution)"
   ]
  },
  {
   "cell_type": "markdown",
   "metadata": {},
   "source": [
    "## Data Retrival"
   ]
  },
  {
   "cell_type": "code",
   "execution_count": 3,
   "metadata": {},
   "outputs": [
    {
     "data": {
      "text/plain": [
       "(3065, 57)"
      ]
     },
     "execution_count": 3,
     "metadata": {},
     "output_type": "execute_result"
    }
   ],
   "source": [
    "data = scipy.io.loadmat('spamData.mat')\n",
    "Xtrain, Xtest, ytrain, ytest = data['Xtrain'], data['Xtest'], data['ytrain'], data['ytest']\n",
    "Xtrain.shape"
   ]
  },
  {
   "cell_type": "markdown",
   "metadata": {},
   "source": [
    "## Preprocessing"
   ]
  },
  {
   "cell_type": "code",
   "execution_count": 4,
   "metadata": {},
   "outputs": [],
   "source": [
    "eps = np.finfo(float).eps\n",
    "\n",
    "def log_elem(x):\n",
    "    return log(x + 0.1)\n",
    "def binarize_elem(x):\n",
    "    return 1 if x > eps else 0\n",
    "\n",
    "def preprocess(X, method=\"z-norm\", mean=None, std=None):\n",
    "    if method==\"z-norm\":\n",
    "        from scipy.stats import zscore\n",
    "        return zscore(X, axis=0, ddof=1)\n",
    "    elif method == \"log-transform\":\n",
    "        npLog = np.vectorize(log_elem)\n",
    "        return npLog(X)\n",
    "    elif method == \"binarization\":\n",
    "        npBinarize = np.vectorize(binarize_elem)\n",
    "        return npBinarize(X)\n",
    "    else:\n",
    "        print(\"Undefined preprocessing option\")"
   ]
  },
  {
   "cell_type": "markdown",
   "metadata": {},
   "source": [
    "## K Nearest Neigbors Class"
   ]
  },
  {
   "cell_type": "code",
   "execution_count": 1,
   "metadata": {},
   "outputs": [],
   "source": [
    "from math import log\n",
    "import numpy as np\n",
    "import pandas as pd\n",
    "import operator\n",
    "from sklearn.base import BaseEstimator, TransformerMixin\n",
    "\n",
    "eps = np.finfo(float).eps\n",
    "\n",
    "class KNearestNeighbors(BaseEstimator, TransformerMixin):\n",
    "    def __init__(self, preprocess=\"z-norm\", K = 5):\n",
    "        self.preprocess = preprocess\n",
    "        self.K = K\n",
    "    \n",
    "    def fit(self, X, y):\n",
    "        self.X = preprocess(X, self.preprocess)\n",
    "        self.y = y\n",
    "        return self        \n",
    "        \n",
    "    def predict(self, x_new):\n",
    "        distances = []\n",
    "        for i in range(len(self.X)):\n",
    "            if (self.preprocess == \"binarization\"):\n",
    "                dist = np.count_nonzero(x_new!=self.X[i])\n",
    "            else:\n",
    "                dist = np.linalg.norm(x_new - self.X[i])\n",
    "            distances.append((self.y[i], dist))\n",
    "        distances.sort(key=operator.itemgetter(1))\n",
    "        response = [0,0]\n",
    "        for i in range(self.K):\n",
    "            if distances[i][0] == 0:\n",
    "                response[0] += 1\n",
    "            else:\n",
    "                response[1] += 1\n",
    "        return np.argmax(response)\n",
    "        \n",
    "    def transform(self, X):\n",
    "        X = preprocess(X, self.preprocess)\n",
    "        ytilde = []\n",
    "        for x in X:\n",
    "            ytilde.append(self.predict(x))\n",
    "        return ytilde"
   ]
  },
  {
   "cell_type": "code",
   "execution_count": 6,
   "metadata": {},
   "outputs": [],
   "source": [
    "Kset = np.r_[1:10, 10:105:5]"
   ]
  },
  {
   "cell_type": "markdown",
   "metadata": {},
   "source": [
    "## Pre-processing: Z-normalization"
   ]
  },
  {
   "cell_type": "code",
   "execution_count": 7,
   "metadata": {},
   "outputs": [
    {
     "name": "stdout",
     "output_type": "stream",
     "text": [
      "Saving figure Q4_1_alpha_vs_errorRate\n",
      "Train Error rate for K = 1: 0.0006525285481240317\n",
      "Train Error rate for K = 10: 0.08384991843393153\n",
      "Train Error rate for K = 100: 0.12365415986949424\n",
      "Test Error rate for K = 1: 0.10677083333333337\n",
      "Test Error rate for K = 10: 0.115234375\n",
      "Test Error rate for K = 100: 0.1484375\n"
     ]
    },
    {
     "data": {
      "image/png": "[encoded data removed]",
      "text/plain": [
       "<Figure size 432x288 with 1 Axes>"
      ]
     },
     "metadata": {
      "needs_background": "light"
     },
     "output_type": "display_data"
    }
   ],
   "source": [
    "data = scipy.io.loadmat('spamData.mat')\n",
    "ytrain, ytest = data['ytrain'], data['ytest']\n",
    "error_rate_test = []\n",
    "error_rate_train = []\n",
    "for k in Kset:\n",
    "    Xtrain, Xtest = data['Xtrain'], data['Xtest']\n",
    "    knn = KNearestNeighbors(preprocess=\"z-norm\", K = k)\n",
    "    knn.fit(Xtrain, ytrain)\n",
    "    ytilde = knn.transform(Xtrain)\n",
    "    error_rate_train.append(1-accuracy_score(ytrain, ytilde, normalize=True))\n",
    "    ytilde = knn.transform(Xtest)\n",
    "    error_rate_test.append(1-accuracy_score(ytest, ytilde, normalize=True))\n",
    "    \n",
    "plt.plot(Kset, error_rate_train, label=\"Train Error Rate\")\n",
    "plt.plot(Kset, error_rate_test, label=\"Test Error Rate\")\n",
    "plt.title(\"K vs. error rate for z-norm\")\n",
    "plt.xlabel(\"Number of neighbors considered\")\n",
    "plt.ylabel(\"Error Rate\")\n",
    "plt.legend()\n",
    "save_fig(\"Q4_1_alpha_vs_errorRate\")\n",
    "print(\"Train Error rate for K = 1: \" + str(error_rate_train[0]))\n",
    "print(\"Train Error rate for K = 10: \" + str(error_rate_train[9]))\n",
    "print(\"Train Error rate for K = 100: \" + str(error_rate_train[-1]))\n",
    "print(\"Test Error rate for K = 1: \" + str(error_rate_test[0]))\n",
    "print(\"Test Error rate for K = 10: \" + str(error_rate_test[9]))\n",
    "print(\"Test Error rate for K = 100: \" + str(error_rate_test[-1]))"
   ]
  },
  {
   "cell_type": "code",
   "execution_count": 8,
   "metadata": {},
   "outputs": [],
   "source": [
    "import scipy.io\n",
    "data = scipy.io.loadmat('spamData.mat')\n",
    "Xtrain, Xtest,ytrain, ytest = data['Xtrain'], data['Xtest'], data['ytrain'], data['ytest']\n",
    "knn = KNearestNeighbors(preprocess=\"z-norm\", K = 1)\n",
    "knn.fit(Xtrain, ytrain)\n",
    "ytilde = knn.transform(Xtrain)"
   ]
  },
  {
   "cell_type": "code",
   "execution_count": 51,
   "metadata": {},
   "outputs": [
    {
     "name": "stdout",
     "output_type": "stream",
     "text": [
      "[[3.600e-01 0.000e+00 1.090e+00 0.000e+00 0.000e+00 0.000e+00 0.000e+00\n",
      "  0.000e+00 0.000e+00 0.000e+00 0.000e+00 7.200e-01 1.810e+00 0.000e+00\n",
      "  0.000e+00 0.000e+00 0.000e+00 0.000e+00 7.200e-01 0.000e+00 1.090e+00\n",
      "  0.000e+00 0.000e+00 7.200e-01 0.000e+00 0.000e+00 0.000e+00 0.000e+00\n",
      "  0.000e+00 0.000e+00 0.000e+00 0.000e+00 0.000e+00 0.000e+00 0.000e+00\n",
      "  0.000e+00 0.000e+00 0.000e+00 0.000e+00 0.000e+00 0.000e+00 0.000e+00\n",
      "  0.000e+00 0.000e+00 0.000e+00 0.000e+00 0.000e+00 0.000e+00 6.300e-02\n",
      "  1.260e-01 0.000e+00 6.300e-02 1.260e-01 0.000e+00 2.562e+00 3.500e+01\n",
      "  1.230e+02]\n",
      " [0.000e+00 3.400e-01 0.000e+00 0.000e+00 6.800e-01 0.000e+00 6.800e-01\n",
      "  0.000e+00 0.000e+00 3.400e-01 3.400e-01 0.000e+00 0.000e+00 0.000e+00\n",
      "  0.000e+00 3.400e-01 0.000e+00 1.360e+00 3.420e+00 0.000e+00 2.730e+00\n",
      "  0.000e+00 0.000e+00 0.000e+00 3.400e-01 3.400e-01 0.000e+00 0.000e+00\n",
      "  0.000e+00 0.000e+00 0.000e+00 0.000e+00 3.400e-01 0.000e+00 0.000e+00\n",
      "  0.000e+00 0.000e+00 0.000e+00 0.000e+00 0.000e+00 0.000e+00 0.000e+00\n",
      "  0.000e+00 0.000e+00 0.000e+00 0.000e+00 0.000e+00 0.000e+00 0.000e+00\n",
      "  0.000e+00 0.000e+00 4.800e-02 4.800e-02 0.000e+00 1.411e+00 1.500e+01\n",
      "  9.600e+01]]\n",
      "[(True, 0.0, 0), (True, 0.0, 1)]\n",
      "[(True, 0.0, 0), (True, 0.0, 1)]\n"
     ]
    }
   ],
   "source": [
    "cmp = ytilde != ytrain.ravel()\n",
    "print(Xtrain[cmp])\n",
    "distances = []\n",
    "for x_new in Xtrain[cmp]:\n",
    "    for i in range(len(Xtrain)):\n",
    "        dist = np.linalg.norm(x_new - Xtrain[i])\n",
    "        distances.append(((Xtrain[i]==x_new).all(), dist, ytrain[i][0]))\n",
    "    distances.sort(key=operator.itemgetter(1))\n",
    "    print(distances[0:2])"
   ]
  },
  {
   "cell_type": "markdown",
   "metadata": {},
   "source": [
    "Here we see that there are two data points which are exactly the samin terms of feature values, but have different labels. Therefore, the KNN classifier always sorts them and gives the value '0' when K=1."
   ]
  },
  {
   "cell_type": "code",
   "execution_count": 74,
   "metadata": {},
   "outputs": [
    {
     "name": "stdout",
     "output_type": "stream",
     "text": [
      "Minimum test error: 0.09895833333333337\n",
      "K value for minimum test error: 5\n"
     ]
    }
   ],
   "source": [
    "min_error = min(error_rate_test)\n",
    "min_k = error_rate_test.index(min_error)\n",
    "print(\"Minimum test error: \" + str(min_error))\n",
    "print(\"K value for minimum test error: \" + str(Kset[min_k]))"
   ]
  },
  {
   "cell_type": "markdown",
   "metadata": {},
   "source": [
    "We will now get the statistics with the $K$ with the samllest error rate, $K = 5$"
   ]
  },
  {
   "cell_type": "code",
   "execution_count": 70,
   "metadata": {},
   "outputs": [
    {
     "name": "stdout",
     "output_type": "stream",
     "text": [
      "Confusion matrix for minimum test error: \n",
      "[[884  71]\n",
      " [ 81 500]]\n"
     ]
    }
   ],
   "source": [
    "data = scipy.io.loadmat('spamData.mat')\n",
    "Xtrain, Xtest, ytrain, ytest = data['Xtrain'], data['Xtest'], data['ytrain'], data['ytest']\n",
    "knn = KNearestNeighbors(preprocess=\"z-norm\", K = 5)\n",
    "knn.fit(Xtrain, ytrain)\n",
    "ytilde = knn.transform(Xtest)\n",
    "error_rate = (1-accuracy_score(ytest, ytilde, normalize=True))\n",
    "print(\"Confusion matrix for minimum test error: \")\n",
    "print(confusion_matrix(ytest, ytilde))"
   ]
  },
  {
   "cell_type": "markdown",
   "metadata": {},
   "source": [
    "## Pre-processing: Log transform"
   ]
  },
  {
   "cell_type": "code",
   "execution_count": 8,
   "metadata": {},
   "outputs": [
    {
     "name": "stdout",
     "output_type": "stream",
     "text": [
      "Saving figure Q4_3_alpha_vs_errorRate_log\n",
      "Train Error rate for K = 1: 0.0006525285481240317\n",
      "Train Error rate for K = 10: 0.051876019575856414\n",
      "Train Error rate for K = 100: 0.09233278955954327\n",
      "Test Error rate for K = 1: 0.07552083333333337\n",
      "Test Error rate for K = 10: 0.07421875\n",
      "Test Error rate for K = 100: 0.09375\n"
     ]
    },
    {
     "data": {
      "image/png": "[encoded data removed]",
      "text/plain": [
       "<Figure size 432x288 with 1 Axes>"
      ]
     },
     "metadata": {
      "needs_background": "light"
     },
     "output_type": "display_data"
    }
   ],
   "source": [
    "data = scipy.io.loadmat('spamData.mat')\n",
    "ytrain, ytest = data['ytrain'], data['ytest']\n",
    "\n",
    "error_rate_test = []\n",
    "error_rate_train = []\n",
    "for k in Kset:\n",
    "    Xtrain, Xtest = data['Xtrain'], data['Xtest']\n",
    "    knn = KNearestNeighbors(preprocess=\"log-transform\", K = k)\n",
    "    knn.fit(Xtrain, ytrain)\n",
    "    ytilde = knn.transform(Xtrain)\n",
    "    error_rate_train.append(1-accuracy_score(ytrain, ytilde, normalize=True))\n",
    "    ytilde = knn.transform(Xtest)\n",
    "    error_rate_test.append(1-accuracy_score(ytest, ytilde, normalize=True))\n",
    "    \n",
    "plt.plot(Kset, error_rate_train, label=\"Train Error Rate\")\n",
    "plt.plot(Kset, error_rate_test, label=\"Test Error Rate\")\n",
    "plt.title(\"K vs. error rate for log-transform\")\n",
    "plt.xlabel(\"Number of neighbors considered\")\n",
    "plt.ylabel(\"Error Rate\")\n",
    "plt.legend()\n",
    "save_fig(\"Q4_3_alpha_vs_errorRate_log\")\n",
    "print(\"Train Error rate for K = 1: \" + str(error_rate_train[0]))\n",
    "print(\"Train Error rate for K = 10: \" + str(error_rate_train[9]))\n",
    "print(\"Train Error rate for K = 100: \" + str(error_rate_train[-1]))\n",
    "print(\"Test Error rate for K = 1: \" + str(error_rate_test[0]))\n",
    "print(\"Test Error rate for K = 10: \" + str(error_rate_test[9]))\n",
    "print(\"Test Error rate for K = 100: \" + str(error_rate_test[-1]))"
   ]
  },
  {
   "cell_type": "code",
   "execution_count": 77,
   "metadata": {},
   "outputs": [
    {
     "name": "stdout",
     "output_type": "stream",
     "text": [
      "Minimum test error: 0.064453125\n",
      "K value for minimum test error: 4\n",
      "Confusion matrix for minimum test error: \n",
      "[[903  52]\n",
      " [113 468]]\n"
     ]
    }
   ],
   "source": [
    "min_error = min(error_rate_test)\n",
    "min_k = error_rate_test.index(min_error)\n",
    "print(\"Minimum test error: \" + str(min_error))\n",
    "print(\"K value for minimum test error: \" + str(Kset[min_k]))\n",
    "data = scipy.io.loadmat('spamData.mat')\n",
    "Xtrain, Xtest, ytrain, ytest = data['Xtrain'], data['Xtest'], data['ytrain'], data['ytest']\n",
    "knn = KNearestNeighbors(preprocess=\"z-norm\", K = Kset[min_k])\n",
    "knn.fit(Xtrain, ytrain)\n",
    "ytilde = knn.transform(Xtest)\n",
    "error_rate = (1-accuracy_score(ytest, ytilde, normalize=True))\n",
    "print(\"Confusion matrix for minimum test error: \")\n",
    "print(confusion_matrix(ytest, ytilde))"
   ]
  },
  {
   "cell_type": "markdown",
   "metadata": {},
   "source": [
    "## Pre-processing: Binarization"
   ]
  },
  {
   "cell_type": "code",
   "execution_count": 9,
   "metadata": {},
   "outputs": [
    {
     "name": "stdout",
     "output_type": "stream",
     "text": [
      "Saving figure Q4_5_alpha_vs_errorRate_binary\n",
      "Train Error rate for K = 1: 0.009461663947797683\n",
      "Train Error rate for K = 10: 0.06655791190864602\n",
      "Train Error rate for K = 100: 0.11615008156606854\n",
      "Test Error rate for K = 1: 0.091796875\n",
      "Test Error rate for K = 10: 0.09114583333333337\n",
      "Test Error rate for K = 100: 0.11783854166666663\n"
     ]
    },
    {
     "data": {
      "image/png": "[encoded data removed]",
      "text/plain": [
       "<Figure size 432x288 with 1 Axes>"
      ]
     },
     "metadata": {
      "needs_background": "light"
     },
     "output_type": "display_data"
    }
   ],
   "source": [
    "error_rate_test = []\n",
    "error_rate_train = []\n",
    "data = scipy.io.loadmat('spamData.mat')\n",
    "Xtrain, Xtest, ytrain, ytest = data['Xtrain'], data['Xtest'], data['ytrain'], data['ytest']\n",
    "for k in Kset:\n",
    "    knn = KNearestNeighbors(preprocess=\"binarization\", K = k)\n",
    "    knn.fit(Xtrain, ytrain)\n",
    "    ytilde = knn.transform(Xtrain)\n",
    "    error_rate_train.append(1-accuracy_score(ytrain, ytilde, normalize=True))\n",
    "    ytilde = knn.transform(Xtest)\n",
    "    error_rate_test.append(1-accuracy_score(ytest, ytilde, normalize=True))\n",
    "        \n",
    "plt.plot(Kset, error_rate_train, label=\"Train Error Rate\")\n",
    "plt.plot(Kset, error_rate_test, label=\"Test Error Rate\")\n",
    "plt.title(\"K vs. error rate for binarization\")\n",
    "plt.xlabel(\"Number of neighbors considered\")\n",
    "plt.ylabel(\"Error Rate\")\n",
    "save_fig(\"Q4_5_alpha_vs_errorRate_binary\")\n",
    "print(\"Train Error rate for K = 1: \" + str(error_rate_train[0]))\n",
    "print(\"Train Error rate for K = 10: \" + str(error_rate_train[9]))\n",
    "print(\"Train Error rate for K = 100: \" + str(error_rate_train[-1]))\n",
    "print(\"Test Error rate for K = 1: \" + str(error_rate_test[0]))\n",
    "print(\"Test Error rate for K = 10: \" + str(error_rate_test[9]))\n",
    "print(\"Test Error rate for K = 100: \" + str(error_rate_test[-1]))"
   ]
  },
  {
   "cell_type": "code",
   "execution_count": 84,
   "metadata": {},
   "outputs": [
    {
     "name": "stdout",
     "output_type": "stream",
     "text": [
      "Minimum test error: 0.080078125\n",
      "K value for minimum test error: 3\n",
      "Confusion matrix for minimum test error: \n",
      "[[875  80]\n",
      " [ 82 499]]\n"
     ]
    }
   ],
   "source": [
    "min_error = min(error_rate_test)\n",
    "min_k = error_rate_test.index(min_error)\n",
    "print(\"Minimum test error: \" + str(min_error))\n",
    "print(\"K value for minimum test error: \" + str(Kset[min_k]))\n",
    "data = scipy.io.loadmat('spamData.mat')\n",
    "Xtrain, Xtest, ytrain, ytest = data['Xtrain'], data['Xtest'], data['ytrain'], data['ytest']\n",
    "knn = KNearestNeighbors(preprocess=\"z-norm\", K = Kset[min_k])\n",
    "knn.fit(Xtrain, ytrain)\n",
    "ytilde = knn.transform(Xtest)\n",
    "error_rate = (1-accuracy_score(ytest, ytilde, normalize=True))\n",
    "print(\"Confusion matrix for minimum test error: \")\n",
    "print(confusion_matrix(ytest, ytilde))"
   ]
  },
  {
   "cell_type": "code",
   "execution_count": null,
   "metadata": {},
   "outputs": [],
   "source": []
  }
 ],
 "metadata": {
  "kernelspec": {
   "display_name": "Python 3",
   "language": "python",
   "name": "python3"
  },
  "language_info": {
   "codemirror_mode": {
    "name": "ipython",
    "version": 3
   },
   "file_extension": ".py",
   "mimetype": "text/x-python",
   "name": "python",
   "nbconvert_exporter": "python",
   "pygments_lexer": "ipython3",
   "version": "3.7.3"
  }
 },
 "nbformat": 4,
 "nbformat_minor": 2
}
